{
 "cells": [
  {
   "cell_type": "markdown",
   "metadata": {},
   "source": [
    "## Correlation and Regression Lines - A Quick Recap #1\n",
    "\n",
    "##### Here are the test scores of 10 students in physics and history:\n",
    "\n",
    "Physics Scores  15  12  8   8   7   7   7   6   5   3\n",
    "History Scores  10  25  17  11  13  17  20  13  9   15\n",
    "Compute Karl Pearson’s coefficient of correlation between these scores. \n",
    "Compute the answer correct to three decimal places.\n",
    "\n",
    "Output Format\n",
    "\n",
    "In the text box, using the language of your choice, print the floating point/decimal value required. Do not leave any leading or trailing spaces.\n",
    "\n",
    "For example, if your answer is 0.255. In python you can print using\n",
    "\n",
    "print(\"0.255\")\n",
    "This is NOT the actual answer - just the format in which you should provide your answer."
   ]
  },
  {
   "cell_type": "code",
   "execution_count": 1,
   "metadata": {},
   "outputs": [
    {
     "name": "stdout",
     "output_type": "stream",
     "text": [
      "0.145\n"
     ]
    }
   ],
   "source": [
    "import math\n",
    "x= [15,12,8,8,7,7,7,6,5,3]\n",
    "y= [10,25,17,11,13,17,20,13,9,15]\n",
    "xy=[]\n",
    "xsquare=[i**2 for i in x]\n",
    "ysquare=[i**2 for i in y]\n",
    "for i in range(len(x)):\n",
    "    xy.append(x[i]*y[i])\n",
    "Nsigmaxy=len(x)*sum(xy)\n",
    "sigmax=sum(x)\n",
    "sigmay=sum(y)\n",
    "sigmax_sigmay=sigmax*sigmay\n",
    "num=Nsigmaxy-sigmax_sigmay\n",
    "nsigmaXsquare=len(x)*sum(xsquare)\n",
    "sigmaXsquare=sigmax**2\n",
    "nsigmaYsquare=len(x)*sum(ysquare)\n",
    "sigmaYsquare=sigmay**2\n",
    "den=math.sqrt((nsigmaXsquare-sigmaXsquare)*(nsigmaYsquare-sigmaYsquare))\n",
    "coeff=num/den\n",
    "print(round(coeff,3))"
   ]
  },
  {
   "cell_type": "markdown",
   "metadata": {},
   "source": [
    "# Correlation and Regression Lines - A Quick Recap #2\n",
    "\n",
    "Physics Scores  15  12  8   8   7   7   7   6   5   3\n",
    "History Scores  10  25  17  11  13  17  20  13  9   15\n",
    "Compute the slope of the line of regression obtained while treating Physics as the independent variable. Compute the answer correct to three decimal places.\n",
    "\n",
    "Output Format\n",
    "\n",
    "In the text box, enter the floating point/decimal value required. Do not leave any leading or trailing spaces. Your answer may look like: 0.255\n",
    "\n",
    "This is NOT the actual answer - just the format in which you should provide your answer."
   ]
  },
  {
   "cell_type": "code",
   "execution_count": 2,
   "metadata": {},
   "outputs": [
    {
     "name": "stdout",
     "output_type": "stream",
     "text": [
      "0.208\n"
     ]
    }
   ],
   "source": [
    "X=[15,12,8,8,7,7,7,6,5,3]\n",
    "Y=[10,25,17,11,13,17,20,13,9,15]\n",
    "XY=[]\n",
    "for i in range(len(X)):\n",
    "    XY.append(X[i]*Y[i])\n",
    "XYmean=sum(XY)/len(XY)\n",
    "Xmean=sum(X)/len(X)\n",
    "Ymean=sum(Y)/len(Y)\n",
    "num=XYmean-Xmean*Ymean\n",
    "Xsquare=[i**2 for i in X]\n",
    "Ysquare=[i**2 for i in Y]\n",
    "XsquareMean=sum(Xsquare)/len(X)\n",
    "XmeanSquare=Xmean**2\n",
    "den=XsquareMean-XmeanSquare\n",
    "print(round(num/den,3))\n"
   ]
  },
  {
   "cell_type": "markdown",
   "metadata": {},
   "source": [
    "# Correlation and Regression Lines - A quick recap #3\n",
    "\n",
    "Here are the test scores of 10 students in physics and history:\n",
    "\n",
    "Physics Scores  15  12  8   8   7   7   7   6   5   3\n",
    "History Scores  10  25  17  11  13  17  20  13  9   15\n",
    "When a student scores 10 in Physics, what is his probable score in History? Compute the answer correct to one decimal place.\n",
    "\n",
    "Output Format\n",
    "\n",
    "In the text box, enter the floating point/decimal value required. Do not leave any leading or trailing spaces. Your answer may look like: 5.5\n",
    "\n",
    "This is NOT the actual answer - just the format in which you should provide your answer."
   ]
  },
  {
   "cell_type": "code",
   "execution_count": 3,
   "metadata": {},
   "outputs": [
    {
     "name": "stdout",
     "output_type": "stream",
     "text": [
      "15.458333333333332\n"
     ]
    }
   ],
   "source": [
    "# Enter your code here. Read input from STDIN. Print output to STDOUT\n",
    "import math\n",
    "X= [15,12,8,8,7,7,7,6,5,3]\n",
    "Y = [10,25,17,11,13,17,20,13,9,15]\n",
    "Xmean = sum(X)/len(X)\n",
    "Ymean = sum(Y)/len(Y)\n",
    "x = [a-Xmean for a in X]\n",
    "y = [a-Ymean for a in Y]\n",
    "b1 = sum([a*b for a,b in zip(x,y)])/sum([a*a for a in x]);\n",
    "b0 = Ymean - b1*Xmean;\n",
    "print(b0+b1*10)"
   ]
  },
  {
   "cell_type": "markdown",
   "metadata": {},
   "source": [
    "# Correlation and Regression Lines - A Quick Recap #4\n",
    "\n",
    "The two regression lines of a bivariate distribution are: \n",
    "4 – 5 + 33 = 0 (line of y on x) 20 – 9 – 107 = 0 (line of x on y). \n",
    "Estimate the value of  when  = 7. Compute the correct answer to one decimal place.\n",
    "\n",
    "Output Format \n",
    "In the text box, enter the floating point/decimal value required. Do not lead any leading or trailing spaces. Your answer may look like: 7.2\n",
    "\n",
    "This is NOT the actual answer - just the format in which you should provide your answer."
   ]
  },
  {
   "cell_type": "code",
   "execution_count": 5,
   "metadata": {},
   "outputs": [
    {
     "name": "stdout",
     "output_type": "stream",
     "text": [
      "8.5\n"
     ]
    }
   ],
   "source": [
    "z = (9/20) * 7 + (107/20)\n",
    "print(round(z,1))"
   ]
  },
  {
   "cell_type": "markdown",
   "metadata": {},
   "source": [
    "# Correlation and Regression Lines - A Quick Recap #5\n",
    "\n",
    "\n",
    "The two regression lines of a bivariate distribution are: 4 – 5 + 33 = 0 and 20 – 9 – 107 = 0. find the variance of y when = 3. Compute the correct answer to one decimal place.\n",
    "\n",
    "Output Format \n",
    "In the text box, enter the floating point or decimal value required. Do not lead any leading or trailing spaces. Your answer may look like: 7.2\n",
    "\n",
    "This is NOT the actual answer - just the format in which you should provide your answer."
   ]
  },
  {
   "cell_type": "code",
   "execution_count": 6,
   "metadata": {},
   "outputs": [
    {
     "name": "stdout",
     "output_type": "stream",
     "text": [
      "16\n"
     ]
    }
   ],
   "source": [
    "import math\n",
    "byx= 4/5\n",
    "bxy=9/20\n",
    "sigmax=3\n",
    "r=math.sqrt(byx*bxy)\n",
    "# byx=r*(sigmay/sigmax)\n",
    "sigmay=(byx*sigmax)/r\n",
    "print(int(sigmay**2))"
   ]
  },
  {
   "cell_type": "code",
   "execution_count": null,
   "metadata": {},
   "outputs": [],
   "source": []
  }
 ],
 "metadata": {
  "kernelspec": {
   "display_name": "Python 3",
   "language": "python",
   "name": "python3"
  },
  "language_info": {
   "codemirror_mode": {
    "name": "ipython",
    "version": 3
   },
   "file_extension": ".py",
   "mimetype": "text/x-python",
   "name": "python",
   "nbconvert_exporter": "python",
   "pygments_lexer": "ipython3",
   "version": "3.6.4"
  }
 },
 "nbformat": 4,
 "nbformat_minor": 2
}
